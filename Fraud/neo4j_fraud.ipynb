{
 "metadata": {
  "kernelspec": {
   "display_name": "Streamlit Notebook",
   "name": "streamlit"
  },
  "lastEditStatus": {
   "notebookId": "q2xgbztw2g5gbn5ihr4i",
   "authorId": "322325853055",
   "authorName": "CROMANO",
   "authorEmail": "chase.romano@snowflake.com",
   "sessionId": "a83ed92a-4ce7-4ba8-9064-72e5ff75fafd",
   "lastEditTime": 1738685289428
  }
 },
 "nbformat_minor": 5,
 "nbformat": 4,
 "cells": [
  {
   "cell_type": "code",
   "id": "b69e5183-ba26-4dd3-9e40-8dc6ac4ec868",
   "metadata": {
    "language": "python",
    "name": "_pip_install",
    "collapsed": false,
    "codeCollapsed": false
   },
   "outputs": [],
   "source": "!pip install plotly networkx --upgrade",
   "execution_count": null
  },
  {
   "cell_type": "code",
   "id": "3775908f-ca36-4846-8f38-5adca39217f2",
   "metadata": {
    "language": "python",
    "name": "_imports",
    "collapsed": false,
    "codeCollapsed": false
   },
   "source": "# Import python packages\nimport streamlit as st\nimport pandas as pd\nimport streamlit as st\nimport networkx as nx\nimport plotly\n\nimport warnings; warnings.simplefilter('ignore')\n\n# We can also use Snowpark for our analyses!\nfrom snowflake.snowpark.context import get_active_session\nsession = get_active_session()\nsession.use_database('TEMP')\nsession.use_schema('PUBLIC')\n",
   "execution_count": null,
   "outputs": []
  },
  {
   "cell_type": "code",
   "id": "c1a71b44-1629-4e9e-8299-61d3d6eebc6f",
   "metadata": {
    "language": "sql",
    "name": "_grants",
    "collapsed": false,
    "codeCollapsed": false
   },
   "outputs": [],
   "source": "-- use accountadmin to set up roles below\nUSE ROLE ACCOUNTADMIN;\n\n-- Create a consumer role for users of the GDS application\nCREATE ROLE IF NOT EXISTS gds_role;\nGRANT USAGE, OPERATE ON WAREHOUSE WH_XS TO ROLE GDS_ROLE;\nGRANT APPLICATION ROLE NEO4J_GRAPH_ANALYTICS.app_user TO ROLE gds_role;\n\n-- Create a consumer role for administrators of the GDS application\nCREATE ROLE IF NOT EXISTS gds_admin_role;\nGRANT APPLICATION ROLE NEO4J_GRAPH_ANALYTICS.app_admin TO ROLE gds_admin_role; \n \nGRANT ALL ON DATABASE TEMP TO APPLICATION NEO4J_GRAPH_ANALYTICS;\nGRANT ALL ON SCHEMA PUBLIC TO APPLICATION NEO4J_GRAPH_ANALYTICS;\nGRANT USAGE ON DATABASE TEMP TO role gds_role;\n\nGRANT USAGE ON SCHEMA TEMP.PUBLIC TO APPLICATION NEO4J_GRAPH_ANALYTICS;\nGRANT USAGE ON SCHEMA TEMP.PUBLIC TO role gds_role;\n\nCREATE OR REPLACE TABLE temp.public.P2P_AGG_TRANSACTIONS (\n\tSOURCENODEID NUMBER(38,0),\n\tTARGETNODEID NUMBER(38,0),\n\tTOTAL_AMOUNT FLOAT\n) AS\nSELECT sourceNodeId, targetNodeId, SUM(transaction_amount) AS total_amount\nFROM temp.public.P2P_TRANSACTIONS\nGROUP BY sourceNodeId, targetNodeId;\n\nGRANT ALL ON ALL TABLES IN SCHEMA TEMP.PUBLIC TO APPLICATION NEO4J_GRAPH_ANALYTICS;\nGRANT ALL ON ALL TABLES IN SCHEMA TEMP.PUBLIC TO role gds_role;\nGRANT ALL ON SCHEMA TEMP.PUBLIC to role gds_role;\nGRANT ALL ON ALL TABLES IN SCHEMA TEMP.PUBLIC to role gds_role;\nGRANT ALL PRIVILEGES ON FUTURE TABLES IN SCHEMA TEMP.PUBLIC TO role gds_role;\nGRANT ROLE gds_role to role gds_admin_role;\nGRANT ROLE gds_admin_role to role sysadmin;\n\n\n",
   "execution_count": null
  },
  {
   "cell_type": "code",
   "id": "54c72042-8310-4898-9f87-0eedbb466187",
   "metadata": {
    "language": "sql",
    "name": "_Create_Neo4J_Session",
    "codeCollapsed": false,
    "collapsed": false
   },
   "outputs": [],
   "source": "CALL NEO4J_GRAPH_ANALYTICS.GDS.CREATE_SESSION('CPU_X64_XS');",
   "execution_count": null
  },
  {
   "cell_type": "code",
   "id": "4a06acd0-4144-4c04-a78c-27bde9181da2",
   "metadata": {
    "language": "sql",
    "name": "_p2p_users",
    "codeCollapsed": false,
    "collapsed": false
   },
   "outputs": [],
   "source": "SELECT * FROM P2P_USERS\nlimit 10;",
   "execution_count": null
  },
  {
   "cell_type": "code",
   "id": "a138b2c6-f738-46f1-99b5-da935769579f",
   "metadata": {
    "language": "sql",
    "name": "_agg_trans",
    "codeCollapsed": false,
    "collapsed": false
   },
   "outputs": [],
   "source": "SELECT * FROM P2P_W_SHARED_CARD\nlimit 10;",
   "execution_count": null
  },
  {
   "cell_type": "code",
   "id": "69e3dcdc-c5a3-4d6e-8e34-c80377639607",
   "metadata": {
    "language": "sql",
    "name": "_drop_projection_if_exists",
    "collapsed": false,
    "codeCollapsed": false
   },
   "outputs": [],
   "source": "SELECT NEO4J_GRAPH_ANALYTICS.gds.graph_drop('entity_linking_graph', { 'failIfMissing': false });",
   "execution_count": null
  },
  {
   "cell_type": "code",
   "id": "58a046dc-3a71-4e1b-ad15-f185aec9d3f3",
   "metadata": {
    "language": "python",
    "name": "_Viz_functions",
    "collapsed": false,
    "codeCollapsed": false
   },
   "outputs": [],
   "source": "import networkx as nx\nimport plotly.graph_objects as go\n\n\ndef size_scale(lst, bounds=(5, 10)):\n    \"\"\"Scales a list of values to a given range (bounds).\"\"\"\n    if not lst:\n        return []\n    mx, mn = max(lst), min(lst)\n    d = mx - mn if mx != mn else 1  # Avoid division by zero\n    return [(bounds[1] - bounds[0]) * ((i - mn) / d) + bounds[0] for i in lst]\n\ndef make_graph_from_wcc_ids(wcc_ids, scale_prop=\"CENTRALITY\"):\n    \"\"\"Creates a directed graph for the given WCC community.\"\"\"\n    global e_df  \n    user_df = session.table('P2P_USERS').to_pandas()\n    e_df = session.table('P2P_W_SHARED_CARD').to_pandas()\n    n_df = user_df[user_df.WCC_ID.isin(wcc_ids)]\n\n    if scale_prop not in n_df.columns or 'FRAUD_TRANSFER_FLAG' not in n_df.columns:\n        raise KeyError(f\"Missing required columns in user_df. Available columns: {n_df.columns.tolist()}\")\n\n    user_ids = n_df.NODEID.tolist()\n    e_df_filtered = e_df[(e_df.SOURCENODEID.isin(user_ids)) & (e_df.TARGETNODEID.isin(user_ids))]\n\n    G = nx.from_pandas_edgelist(e_df_filtered, source='SOURCENODEID', target='TARGETNODEID', create_using=nx.DiGraph())\n\n    # Assign attributes to nodes\n    attributes = dict(zip(n_df.NODEID, n_df[['NODEID', scale_prop, 'FRAUD_TRANSFER_FLAG']].to_dict(orient=\"records\")))\n    nx.set_node_attributes(G, attributes)\n\n    return G\n\ndef plot_graph(G, title=\"Subgraph\", scale_prop=\"CENTRALITY\"):\n    \"\"\"Plots the graph using Plotly with color-coded fraud nodes.\"\"\"\n    pos = nx.spring_layout(G)\n\n    # Edge traces\n    edge_x, edge_y = [], []\n    for edge in G.edges():\n        x0, y0 = pos[edge[0]]\n        x1, y1 = pos[edge[1]]\n        edge_x.extend([x0, x1, None])\n        edge_y.extend([y0, y1, None])\n\n    edge_trace = go.Scatter(x=edge_x, y=edge_y, line=dict(width=0.5, color='#888'), hoverinfo='none', mode='lines')\n\n    # Node traces\n    node_x, node_y, node_size, node_color, node_text = [], [], [], [], []\n    for node in G.nodes():\n        x, y = pos[node]\n        node_x.append(x)\n        node_y.append(y)\n        node_text.append(str(G.nodes[node]))\n\n        # Get centrality value for scaling\n        centrality = round(G.nodes[node].get(scale_prop, 1), 3)\n        node_size.append(centrality)\n\n        # Color nodes based on fraud flag\n        fraud_flag = G.nodes[node].get('FRAUD_TRANSFER_FLAG', 0)\n        node_color.append('red' if fraud_flag == 1 else 'blue')\n\n    node_size = size_scale(node_size, (10, 30))\n\n    node_trace = go.Scatter(\n        x=node_x, y=node_y, mode='markers', hoverinfo='text',\n        marker=dict(\n            size=node_size,\n            color=node_color,\n            line=dict(width=2, color='DarkSlateGrey')\n        ),\n        text=node_text\n    )\n\n    fig = go.Figure(\n        data=[edge_trace, node_trace],\n        layout=go.Layout(\n            title=title, titlefont_size=16,\n            showlegend=False, hovermode='closest',\n            margin=dict(b=20, l=5, r=5, t=40),\n            xaxis=dict(showgrid=False, zeroline=False, showticklabels=False),\n            yaxis=dict(showgrid=False, zeroline=False, showticklabels=False)\n        )\n    )\n    \n    return fig\n\ndef plot_pr_graph_from_wcc_ids(wcc_ids):\n    \"\"\"Plots the graph for a given WCC community with fraud highlighting.\"\"\"\n    G = make_graph_from_wcc_ids(wcc_ids, \"CENTRALITY\")\n    return plot_graph(G, title=f\"WCC Community: {wcc_ids}\", scale_prop=\"CENTRALITY\")\n\n",
   "execution_count": null
  },
  {
   "cell_type": "code",
   "id": "e3e31177-2391-4a84-a0b4-a05fb3093a21",
   "metadata": {
    "language": "python",
    "name": "_show_sample_visualization",
    "codeCollapsed": false,
    "collapsed": false
   },
   "outputs": [],
   "source": "#plot_pr_graph_from_wcc_ids([433])",
   "execution_count": null
  },
  {
   "cell_type": "code",
   "id": "a0e944b2-8b75-4d23-912b-7ac5ad0b7c58",
   "metadata": {
    "language": "sql",
    "name": "_Entiy_Link",
    "collapsed": false,
    "codeCollapsed": false
   },
   "outputs": [],
   "source": "-- Create a projection of P2P users linked via shared cards\nSELECT neo4j_graph_analytics.gds.graph_project(\n               'entity_linking_graph',\n           { 'nodeTable': 'temp.public.p2p_users',\n               'relationshipTable': 'temp.public.p2p_w_shared_card'});",
   "execution_count": null
  },
  {
   "cell_type": "code",
   "id": "409fb3ec-8d5a-4e0b-8974-38e6c641127e",
   "metadata": {
    "language": "sql",
    "name": "_Calc_WCC",
    "collapsed": false,
    "codeCollapsed": false
   },
   "outputs": [],
   "source": "-- calculate weakly connected components (WCC)\nSELECT neo4j_graph_analytics.gds.wcc('entity_linking_graph', {'mutateProperty': 'wcc_id'});",
   "execution_count": null
  },
  {
   "cell_type": "code",
   "id": "956ea064-3cba-471c-8c47-bd8956365540",
   "metadata": {
    "language": "sql",
    "name": "_Write_WCC",
    "collapsed": false,
    "codeCollapsed": false
   },
   "outputs": [],
   "source": "-- Write  to table\nSELECT neo4j_graph_analytics.gds.write_nodeproperties('entity_linking_graph',\n           {'nodeProperties': ['wcc_id'], 'table': 'temp.public.P2P_COMPONENTS'}\n);",
   "execution_count": null
  },
  {
   "cell_type": "code",
   "id": "4da5d616-df05-442c-8f4f-04d3703e75bf",
   "metadata": {
    "language": "sql",
    "name": "_generate_pageRank",
    "codeCollapsed": false,
    "collapsed": false
   },
   "outputs": [],
   "source": "SELECT NEO4J_GRAPH_ANALYTICS.gds.page_rank('entity_linking_graph', \n        {'mutateProperty': 'score'}\n);",
   "execution_count": null
  },
  {
   "cell_type": "code",
   "id": "1c673e50-2c54-434b-8336-1cc2b16ab557",
   "metadata": {
    "language": "sql",
    "name": "_write_pageRank",
    "collapsed": false
   },
   "outputs": [],
   "source": "SELECT NEO4J_GRAPH_ANALYTICS.gds.write_nodeproperties('entity_linking_graph',\n           {'nodeProperties': ['score'], 'table': 'temp.public.shared_card_transaction_pagerank'});",
   "execution_count": null
  },
  {
   "cell_type": "code",
   "id": "e6150675-ee8f-4b65-be43-54b9a5c8f106",
   "metadata": {
    "language": "sql",
    "name": "_update_P2P_table",
    "collapsed": false
   },
   "outputs": [],
   "source": "ALTER TABLE p2p_users\nADD COLUMN IF NOT EXISTS centrality float;\nUPDATE p2p_users\nSET centrality = ROUND(shared_card_transaction_pagerank.score, 3)\nFROM shared_card_transaction_pagerank\nWHERE p2p_users.nodeId = shared_card_transaction_pagerank.nodeId;\n\nALTER TABLE p2p_users\nADD COLUMN IF NOT EXISTS wcc_id INT; \nUPDATE p2p_users\nSET wcc_id = p2p_components.wcc_id\nFROM p2p_components\nWHERE p2p_users.nodeId = p2p_components.nodeId;",
   "execution_count": null
  },
  {
   "cell_type": "code",
   "id": "55e3e7ee-4669-42e9-a18e-d194c1556fde",
   "metadata": {
    "language": "sql",
    "name": "_Show_WCC",
    "collapsed": false,
    "codeCollapsed": false
   },
   "outputs": [],
   "source": "SELECT * FROM p2p_users \nORDER BY wcc_id\nlimit 10;",
   "execution_count": null
  },
  {
   "cell_type": "code",
   "id": "a81bf497-4be0-4c83-94e4-853d83b7e2d5",
   "metadata": {
    "language": "sql",
    "name": "_Resolved_View",
    "collapsed": false,
    "codeCollapsed": false
   },
   "outputs": [],
   "source": "CREATE OR REPLACE VIEW resolved_p2p_users AS\nSELECT p2p_components.wcc_id,\n       count(*) AS user_count,\n       TO_NUMBER(SUM(CASE WHEN p2p_users.fraud_transfer_flag > 0 THEN 1 ELSE 0 END)) AS fraud_flags,\n       ARRAY_AGG(p2p_users.nodeId) AS user_ids\n       FROM p2p_users JOIN p2p_components ON p2p_users.nodeId = p2p_components.nodeId\nGROUP BY p2p_components.wcc_id ORDER BY fraud_flags DESC;\n",
   "execution_count": null
  },
  {
   "cell_type": "code",
   "id": "03d382ba-a8a3-4eaa-b6b3-282d70f4bb54",
   "metadata": {
    "language": "sql",
    "name": "_Fraud_Flags_Desc",
    "collapsed": false,
    "codeCollapsed": false
   },
   "outputs": [],
   "source": "select * from resolved_p2p_users \nORDER BY fraud_flags DESC;",
   "execution_count": null
  },
  {
   "cell_type": "code",
   "id": "a235b446-75b2-40cf-a368-0fded00af481",
   "metadata": {
    "language": "sql",
    "name": "_updated_p2p_users",
    "collapsed": false
   },
   "outputs": [],
   "source": "SELECT * FROM P2P_USERS \nLIMIT 10;",
   "execution_count": null
  },
  {
   "cell_type": "code",
   "id": "78e5b13a-61f2-4fc4-9f47-f5d9f174ecbc",
   "metadata": {
    "language": "python",
    "name": "_display_wcc_community",
    "collapsed": false,
    "codeCollapsed": false
   },
   "outputs": [],
   "source": "plot_pr_graph_from_wcc_ids([4016])",
   "execution_count": null
  },
  {
   "cell_type": "code",
   "id": "9633bcae-90b4-41d5-8345-c182f0d6a2c2",
   "metadata": {
    "language": "python",
    "name": "_visualize_in_streamlit",
    "collapsed": false,
    "codeCollapsed": false
   },
   "outputs": [],
   "source": "import streamlit as st\n\nst.subheader(\"Explore Graph Communities\")\nresolved_p2p_users = session.table('resolved_p2p_users').to_pandas()\n\n\nselected_comm_id = st.selectbox(\n   \"Select a Community\",\n   resolved_p2p_users['WCC_ID'].tolist(),\n   placeholder=\"Select WCC ID...\",\n)\n\nif selected_comm_id:\n    comm_ids = resolved_p2p_users[resolved_p2p_users['WCC_ID'] == selected_comm_id]['WCC_ID'].tolist()\n    st.plotly_chart(plot_pr_graph_from_wcc_ids(comm_ids))\n",
   "execution_count": null
  },
  {
   "cell_type": "code",
   "id": "928918e0-7275-4ec7-9d08-715febd79624",
   "metadata": {
    "language": "sql",
    "name": "_stop_Session",
    "codeCollapsed": false,
    "collapsed": false
   },
   "outputs": [],
   "source": "-- stop session\nCALL neo4j_graph_analytics.gds.stop_session();",
   "execution_count": null
  }
 ]
}